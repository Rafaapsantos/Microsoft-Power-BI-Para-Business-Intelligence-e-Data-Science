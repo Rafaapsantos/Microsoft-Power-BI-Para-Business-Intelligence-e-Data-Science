{
 "cells": [
  {
   "cell_type": "code",
   "execution_count": 2,
   "id": "f599d05f-49f1-4a02-93ca-f183b1aaf6af",
   "metadata": {},
   "outputs": [
    {
     "data": {
      "text/html": [
       "<div>\n",
       "<style scoped>\n",
       "    .dataframe tbody tr th:only-of-type {\n",
       "        vertical-align: middle;\n",
       "    }\n",
       "\n",
       "    .dataframe tbody tr th {\n",
       "        vertical-align: top;\n",
       "    }\n",
       "\n",
       "    .dataframe thead th {\n",
       "        text-align: right;\n",
       "    }\n",
       "</style>\n",
       "<table border=\"1\" class=\"dataframe\">\n",
       "  <thead>\n",
       "    <tr style=\"text-align: right;\">\n",
       "      <th></th>\n",
       "      <th>Viagem</th>\n",
       "      <th>Data Pedido</th>\n",
       "      <th>Data Entrega</th>\n",
       "      <th>Prazo Entrega</th>\n",
       "      <th>Endereço</th>\n",
       "      <th>Nome Motorista</th>\n",
       "      <th>Sobrenome</th>\n",
       "      <th>Marca/Veículo</th>\n",
       "      <th>Valor do Frete Líquido</th>\n",
       "      <th>Km</th>\n",
       "      <th>Custo Combustível</th>\n",
       "      <th>Custo Manutenção</th>\n",
       "      <th>Custos Fixos</th>\n",
       "      <th>Unnamed: 13</th>\n",
       "    </tr>\n",
       "  </thead>\n",
       "  <tbody>\n",
       "    <tr>\n",
       "      <th>0</th>\n",
       "      <td>1</td>\n",
       "      <td>2022-01-01</td>\n",
       "      <td>2022-01-11</td>\n",
       "      <td>11</td>\n",
       "      <td>R. Teodoro Sampaio, 954 - Pinheiros, São Paulo...</td>\n",
       "      <td>Leandro</td>\n",
       "      <td>Coutinho</td>\n",
       "      <td>Scania - TRUCK</td>\n",
       "      <td>562.70</td>\n",
       "      <td>12.51</td>\n",
       "      <td>41.28</td>\n",
       "      <td>10.41</td>\n",
       "      <td>4.58</td>\n",
       "      <td>NaN</td>\n",
       "    </tr>\n",
       "    <tr>\n",
       "      <th>1</th>\n",
       "      <td>2</td>\n",
       "      <td>2022-01-01</td>\n",
       "      <td>2022-01-10</td>\n",
       "      <td>3</td>\n",
       "      <td>Shopping Barra - Av. Centenário, 2992 - Barra,...</td>\n",
       "      <td>Fernanda</td>\n",
       "      <td>Rocha</td>\n",
       "      <td>Iveco - VUC</td>\n",
       "      <td>1220.10</td>\n",
       "      <td>20.49</td>\n",
       "      <td>86.05</td>\n",
       "      <td>15.91</td>\n",
       "      <td>20.05</td>\n",
       "      <td>NaN</td>\n",
       "    </tr>\n",
       "    <tr>\n",
       "      <th>2</th>\n",
       "      <td>3</td>\n",
       "      <td>2022-01-01</td>\n",
       "      <td>2022-01-04</td>\n",
       "      <td>10</td>\n",
       "      <td>R. Teodoro Sampaio, 954 - Pinheiros, São Paulo...</td>\n",
       "      <td>Victor</td>\n",
       "      <td>Fonseca</td>\n",
       "      <td>Scania - 3/4</td>\n",
       "      <td>18.66</td>\n",
       "      <td>0.76</td>\n",
       "      <td>0.30</td>\n",
       "      <td>2.89</td>\n",
       "      <td>3.03</td>\n",
       "      <td>NaN</td>\n",
       "    </tr>\n",
       "    <tr>\n",
       "      <th>3</th>\n",
       "      <td>4</td>\n",
       "      <td>2022-01-01</td>\n",
       "      <td>2022-01-02</td>\n",
       "      <td>12</td>\n",
       "      <td>R. Teodoro Sampaio, 954 - Pinheiros, São Paulo...</td>\n",
       "      <td>Julia</td>\n",
       "      <td>Freitas</td>\n",
       "      <td>Mercedes-Benz - TOCO</td>\n",
       "      <td>1054.71</td>\n",
       "      <td>19.91</td>\n",
       "      <td>85.63</td>\n",
       "      <td>24.67</td>\n",
       "      <td>6.89</td>\n",
       "      <td>NaN</td>\n",
       "    </tr>\n",
       "    <tr>\n",
       "      <th>4</th>\n",
       "      <td>5</td>\n",
       "      <td>2022-01-01</td>\n",
       "      <td>2022-01-06</td>\n",
       "      <td>6</td>\n",
       "      <td>Av. Borges de Medeiros, 3120 - Praia de Belas,...</td>\n",
       "      <td>Frederico</td>\n",
       "      <td>Vidal</td>\n",
       "      <td>Mercedes-Benz - TOCO</td>\n",
       "      <td>38.00</td>\n",
       "      <td>5.11</td>\n",
       "      <td>1.53</td>\n",
       "      <td>4.28</td>\n",
       "      <td>1.79</td>\n",
       "      <td>NaN</td>\n",
       "    </tr>\n",
       "    <tr>\n",
       "      <th>...</th>\n",
       "      <td>...</td>\n",
       "      <td>...</td>\n",
       "      <td>...</td>\n",
       "      <td>...</td>\n",
       "      <td>...</td>\n",
       "      <td>...</td>\n",
       "      <td>...</td>\n",
       "      <td>...</td>\n",
       "      <td>...</td>\n",
       "      <td>...</td>\n",
       "      <td>...</td>\n",
       "      <td>...</td>\n",
       "      <td>...</td>\n",
       "      <td>...</td>\n",
       "    </tr>\n",
       "    <tr>\n",
       "      <th>58975</th>\n",
       "      <td>58976</td>\n",
       "      <td>2023-12-30</td>\n",
       "      <td>2023-12-31</td>\n",
       "      <td>11</td>\n",
       "      <td>Rua Antônio Lumack do Monte, 203 - 1 - Boa Via...</td>\n",
       "      <td>Filipe</td>\n",
       "      <td>Tabet</td>\n",
       "      <td>Mercedes-Benz - 3/4</td>\n",
       "      <td>651.75</td>\n",
       "      <td>26.55</td>\n",
       "      <td>82.31</td>\n",
       "      <td>28.87</td>\n",
       "      <td>19.17</td>\n",
       "      <td>NaN</td>\n",
       "    </tr>\n",
       "    <tr>\n",
       "      <th>58976</th>\n",
       "      <td>58977</td>\n",
       "      <td>2023-12-30</td>\n",
       "      <td>2023-12-31</td>\n",
       "      <td>8</td>\n",
       "      <td>Av. Goiás Norte, 3.592 - quadra 2.1 - St. Mal....</td>\n",
       "      <td>Maria</td>\n",
       "      <td>Mello</td>\n",
       "      <td>Volvo - TOCO</td>\n",
       "      <td>452.10</td>\n",
       "      <td>7.93</td>\n",
       "      <td>25.37</td>\n",
       "      <td>11.10</td>\n",
       "      <td>8.74</td>\n",
       "      <td></td>\n",
       "    </tr>\n",
       "    <tr>\n",
       "      <th>58977</th>\n",
       "      <td>58978</td>\n",
       "      <td>2023-12-30</td>\n",
       "      <td>2023-12-31</td>\n",
       "      <td>5</td>\n",
       "      <td>Shopping Barra - Av. Centenário, 2992 - Barra,...</td>\n",
       "      <td>Carolina</td>\n",
       "      <td>Gusmão</td>\n",
       "      <td>Mercedes-Benz - 3/4</td>\n",
       "      <td>55.08</td>\n",
       "      <td>5.52</td>\n",
       "      <td>12.70</td>\n",
       "      <td>4.00</td>\n",
       "      <td>1.66</td>\n",
       "      <td>NaN</td>\n",
       "    </tr>\n",
       "    <tr>\n",
       "      <th>58978</th>\n",
       "      <td>58979</td>\n",
       "      <td>2023-12-30</td>\n",
       "      <td>2024-01-01</td>\n",
       "      <td>2</td>\n",
       "      <td>R. Teodoro Sampaio, 954 - Pinheiros, São Paulo...</td>\n",
       "      <td>Poline</td>\n",
       "      <td>Limp</td>\n",
       "      <td>Ford - CARRETA</td>\n",
       "      <td>146.52</td>\n",
       "      <td>3.76</td>\n",
       "      <td>17.67</td>\n",
       "      <td>2.73</td>\n",
       "      <td>4.02</td>\n",
       "      <td>NaN</td>\n",
       "    </tr>\n",
       "    <tr>\n",
       "      <th>58979</th>\n",
       "      <td>58980</td>\n",
       "      <td>2023-12-30</td>\n",
       "      <td>2024-01-01</td>\n",
       "      <td>3</td>\n",
       "      <td>R. Teodoro Sampaio, 954 - Pinheiros, São Paulo...</td>\n",
       "      <td>Bruno</td>\n",
       "      <td>Felippe</td>\n",
       "      <td>Mercedes-Benz - TOCO</td>\n",
       "      <td>175.63</td>\n",
       "      <td>3.03</td>\n",
       "      <td>11.80</td>\n",
       "      <td>10.23</td>\n",
       "      <td>3.06</td>\n",
       "      <td>NaN</td>\n",
       "    </tr>\n",
       "  </tbody>\n",
       "</table>\n",
       "<p>58980 rows × 14 columns</p>\n",
       "</div>"
      ],
      "text/plain": [
       "       Viagem Data Pedido Data Entrega  Prazo Entrega  \\\n",
       "0           1  2022-01-01   2022-01-11             11   \n",
       "1           2  2022-01-01   2022-01-10              3   \n",
       "2           3  2022-01-01   2022-01-04             10   \n",
       "3           4  2022-01-01   2022-01-02             12   \n",
       "4           5  2022-01-01   2022-01-06              6   \n",
       "...       ...         ...          ...            ...   \n",
       "58975   58976  2023-12-30   2023-12-31             11   \n",
       "58976   58977  2023-12-30   2023-12-31              8   \n",
       "58977   58978  2023-12-30   2023-12-31              5   \n",
       "58978   58979  2023-12-30   2024-01-01              2   \n",
       "58979   58980  2023-12-30   2024-01-01              3   \n",
       "\n",
       "                                                Endereço Nome Motorista  \\\n",
       "0      R. Teodoro Sampaio, 954 - Pinheiros, São Paulo...        Leandro   \n",
       "1      Shopping Barra - Av. Centenário, 2992 - Barra,...       Fernanda   \n",
       "2      R. Teodoro Sampaio, 954 - Pinheiros, São Paulo...         Victor   \n",
       "3      R. Teodoro Sampaio, 954 - Pinheiros, São Paulo...          Julia   \n",
       "4      Av. Borges de Medeiros, 3120 - Praia de Belas,...      Frederico   \n",
       "...                                                  ...            ...   \n",
       "58975  Rua Antônio Lumack do Monte, 203 - 1 - Boa Via...         Filipe   \n",
       "58976  Av. Goiás Norte, 3.592 - quadra 2.1 - St. Mal....          Maria   \n",
       "58977  Shopping Barra - Av. Centenário, 2992 - Barra,...       Carolina   \n",
       "58978  R. Teodoro Sampaio, 954 - Pinheiros, São Paulo...         Poline   \n",
       "58979  R. Teodoro Sampaio, 954 - Pinheiros, São Paulo...          Bruno   \n",
       "\n",
       "      Sobrenome         Marca/Veículo  Valor do Frete Líquido     Km  \\\n",
       "0      Coutinho        Scania - TRUCK                  562.70  12.51   \n",
       "1         Rocha           Iveco - VUC                 1220.10  20.49   \n",
       "2       Fonseca          Scania - 3/4                   18.66   0.76   \n",
       "3       Freitas  Mercedes-Benz - TOCO                 1054.71  19.91   \n",
       "4         Vidal  Mercedes-Benz - TOCO                   38.00   5.11   \n",
       "...         ...                   ...                     ...    ...   \n",
       "58975     Tabet   Mercedes-Benz - 3/4                  651.75  26.55   \n",
       "58976     Mello          Volvo - TOCO                  452.10   7.93   \n",
       "58977    Gusmão   Mercedes-Benz - 3/4                   55.08   5.52   \n",
       "58978      Limp        Ford - CARRETA                  146.52   3.76   \n",
       "58979   Felippe  Mercedes-Benz - TOCO                  175.63   3.03   \n",
       "\n",
       "       Custo Combustível  Custo Manutenção  Custos Fixos Unnamed: 13  \n",
       "0                  41.28             10.41          4.58         NaN  \n",
       "1                  86.05             15.91         20.05         NaN  \n",
       "2                   0.30              2.89          3.03         NaN  \n",
       "3                  85.63             24.67          6.89         NaN  \n",
       "4                   1.53              4.28          1.79         NaN  \n",
       "...                  ...               ...           ...         ...  \n",
       "58975              82.31             28.87         19.17         NaN  \n",
       "58976              25.37             11.10          8.74              \n",
       "58977              12.70              4.00          1.66         NaN  \n",
       "58978              17.67              2.73          4.02         NaN  \n",
       "58979              11.80             10.23          3.06         NaN  \n",
       "\n",
       "[58980 rows x 14 columns]"
      ]
     },
     "metadata": {},
     "output_type": "display_data"
    }
   ],
   "source": [
    "import pandas as pd \n",
    "tabela= pd.read_excel(\"base.xlsx\")\n",
    "display(tabela)"
   ]
  },
  {
   "cell_type": "code",
   "execution_count": 3,
   "id": "09eeaafd-7b10-4a3c-8919-4b631ea2656f",
   "metadata": {},
   "outputs": [
    {
     "data": {
      "text/html": [
       "<div>\n",
       "<style scoped>\n",
       "    .dataframe tbody tr th:only-of-type {\n",
       "        vertical-align: middle;\n",
       "    }\n",
       "\n",
       "    .dataframe tbody tr th {\n",
       "        vertical-align: top;\n",
       "    }\n",
       "\n",
       "    .dataframe thead th {\n",
       "        text-align: right;\n",
       "    }\n",
       "</style>\n",
       "<table border=\"1\" class=\"dataframe\">\n",
       "  <thead>\n",
       "    <tr style=\"text-align: right;\">\n",
       "      <th></th>\n",
       "      <th>Viagem</th>\n",
       "      <th>Data Pedido</th>\n",
       "      <th>Data Entrega</th>\n",
       "      <th>Prazo Entrega</th>\n",
       "      <th>Valor do Frete Líquido</th>\n",
       "      <th>Km</th>\n",
       "      <th>Custo Combustível</th>\n",
       "      <th>Custo Manutenção</th>\n",
       "      <th>Custos Fixos</th>\n",
       "    </tr>\n",
       "  </thead>\n",
       "  <tbody>\n",
       "    <tr>\n",
       "      <th>count</th>\n",
       "      <td>58980.000000</td>\n",
       "      <td>58980</td>\n",
       "      <td>58980</td>\n",
       "      <td>58980.000000</td>\n",
       "      <td>58980.000000</td>\n",
       "      <td>58980.000000</td>\n",
       "      <td>58980.000000</td>\n",
       "      <td>58980.000000</td>\n",
       "      <td>58980.000000</td>\n",
       "    </tr>\n",
       "    <tr>\n",
       "      <th>mean</th>\n",
       "      <td>29490.500000</td>\n",
       "      <td>2023-02-18 12:14:52.126144512</td>\n",
       "      <td>2023-02-23 08:48:51.271617280</td>\n",
       "      <td>6.500661</td>\n",
       "      <td>230.467185</td>\n",
       "      <td>7.627316</td>\n",
       "      <td>19.426054</td>\n",
       "      <td>8.314301</td>\n",
       "      <td>7.570520</td>\n",
       "    </tr>\n",
       "    <tr>\n",
       "      <th>min</th>\n",
       "      <td>1.000000</td>\n",
       "      <td>2022-01-01 00:00:00</td>\n",
       "      <td>2022-01-02 00:00:00</td>\n",
       "      <td>1.000000</td>\n",
       "      <td>0.900000</td>\n",
       "      <td>0.000000</td>\n",
       "      <td>0.000000</td>\n",
       "      <td>0.010000</td>\n",
       "      <td>0.000000</td>\n",
       "    </tr>\n",
       "    <tr>\n",
       "      <th>25%</th>\n",
       "      <td>14745.750000</td>\n",
       "      <td>2022-09-04 00:00:00</td>\n",
       "      <td>2022-09-08 00:00:00</td>\n",
       "      <td>3.000000</td>\n",
       "      <td>76.167500</td>\n",
       "      <td>2.010000</td>\n",
       "      <td>2.990000</td>\n",
       "      <td>2.910000</td>\n",
       "      <td>2.130000</td>\n",
       "    </tr>\n",
       "    <tr>\n",
       "      <th>50%</th>\n",
       "      <td>29490.500000</td>\n",
       "      <td>2023-03-10 00:00:00</td>\n",
       "      <td>2023-03-16 00:00:00</td>\n",
       "      <td>6.000000</td>\n",
       "      <td>163.600000</td>\n",
       "      <td>5.680000</td>\n",
       "      <td>10.670000</td>\n",
       "      <td>6.560000</td>\n",
       "      <td>5.680000</td>\n",
       "    </tr>\n",
       "    <tr>\n",
       "      <th>75%</th>\n",
       "      <td>44235.250000</td>\n",
       "      <td>2023-08-08 00:00:00</td>\n",
       "      <td>2023-08-13 00:00:00</td>\n",
       "      <td>10.000000</td>\n",
       "      <td>310.665000</td>\n",
       "      <td>11.660000</td>\n",
       "      <td>27.700000</td>\n",
       "      <td>12.340000</td>\n",
       "      <td>11.360000</td>\n",
       "    </tr>\n",
       "    <tr>\n",
       "      <th>max</th>\n",
       "      <td>58980.000000</td>\n",
       "      <td>2023-12-30 00:00:00</td>\n",
       "      <td>2024-01-01 00:00:00</td>\n",
       "      <td>12.000000</td>\n",
       "      <td>2095.800000</td>\n",
       "      <td>44.240000</td>\n",
       "      <td>177.380000</td>\n",
       "      <td>39.980000</td>\n",
       "      <td>42.230000</td>\n",
       "    </tr>\n",
       "    <tr>\n",
       "      <th>std</th>\n",
       "      <td>17026.203775</td>\n",
       "      <td>NaN</td>\n",
       "      <td>NaN</td>\n",
       "      <td>3.451109</td>\n",
       "      <td>220.357751</td>\n",
       "      <td>6.831773</td>\n",
       "      <td>22.869509</td>\n",
       "      <td>6.694189</td>\n",
       "      <td>6.706057</td>\n",
       "    </tr>\n",
       "  </tbody>\n",
       "</table>\n",
       "</div>"
      ],
      "text/plain": [
       "             Viagem                    Data Pedido  \\\n",
       "count  58980.000000                          58980   \n",
       "mean   29490.500000  2023-02-18 12:14:52.126144512   \n",
       "min        1.000000            2022-01-01 00:00:00   \n",
       "25%    14745.750000            2022-09-04 00:00:00   \n",
       "50%    29490.500000            2023-03-10 00:00:00   \n",
       "75%    44235.250000            2023-08-08 00:00:00   \n",
       "max    58980.000000            2023-12-30 00:00:00   \n",
       "std    17026.203775                            NaN   \n",
       "\n",
       "                        Data Entrega  Prazo Entrega  Valor do Frete Líquido  \\\n",
       "count                          58980   58980.000000            58980.000000   \n",
       "mean   2023-02-23 08:48:51.271617280       6.500661              230.467185   \n",
       "min              2022-01-02 00:00:00       1.000000                0.900000   \n",
       "25%              2022-09-08 00:00:00       3.000000               76.167500   \n",
       "50%              2023-03-16 00:00:00       6.000000              163.600000   \n",
       "75%              2023-08-13 00:00:00      10.000000              310.665000   \n",
       "max              2024-01-01 00:00:00      12.000000             2095.800000   \n",
       "std                              NaN       3.451109              220.357751   \n",
       "\n",
       "                 Km  Custo Combustível  Custo Manutenção  Custos Fixos  \n",
       "count  58980.000000       58980.000000      58980.000000  58980.000000  \n",
       "mean       7.627316          19.426054          8.314301      7.570520  \n",
       "min        0.000000           0.000000          0.010000      0.000000  \n",
       "25%        2.010000           2.990000          2.910000      2.130000  \n",
       "50%        5.680000          10.670000          6.560000      5.680000  \n",
       "75%       11.660000          27.700000         12.340000     11.360000  \n",
       "max       44.240000         177.380000         39.980000     42.230000  \n",
       "std        6.831773          22.869509          6.694189      6.706057  "
      ]
     },
     "execution_count": 3,
     "metadata": {},
     "output_type": "execute_result"
    }
   ],
   "source": [
    "tabela.describe()"
   ]
  },
  {
   "cell_type": "code",
   "execution_count": 11,
   "id": "cffa7d32-def6-4b12-8190-d073250585be",
   "metadata": {},
   "outputs": [
    {
     "name": "stdout",
     "output_type": "stream",
     "text": [
      "Assimetria: 0.0\n",
      "Curtose: -1.2000000006899254\n"
     ]
    }
   ],
   "source": [
    "from scipy.stats import skew, kurtosis\n",
    "tabela= pd.read_excel(\"base.xlsx\")\n",
    "\n",
    "assimetria= skew(tabela[\"Viagem\"])\n",
    "curtose = kurtosis(tabela[\"Viagem\"])\n",
    "print(\"Assimetria:\", assimetria)\n",
    "print(\"Curtose:\", curtose)"
   ]
  },
  {
   "cell_type": "code",
   "execution_count": 12,
   "id": "42283fd4-9595-4c20-a84f-099a4a7ca879",
   "metadata": {},
   "outputs": [
    {
     "name": "stdout",
     "output_type": "stream",
     "text": [
      "Assimetria: 0.0023547017313065126\n",
      "Curtose: -1.222617762230585\n"
     ]
    }
   ],
   "source": [
    "tabela= pd.read_excel(\"base.xlsx\")\n",
    "\n",
    "assimetria= skew(tabela[\"Prazo Entrega\"])\n",
    "curtose = kurtosis(tabela[\"Prazo Entrega\"])\n",
    "print(\"Assimetria:\", assimetria)\n",
    "print(\"Curtose:\", curtose)"
   ]
  },
  {
   "cell_type": "code",
   "execution_count": 13,
   "id": "4badc884-7e51-446e-8831-d4e6c3d325eb",
   "metadata": {},
   "outputs": [
    {
     "name": "stdout",
     "output_type": "stream",
     "text": [
      "Assimetria: 1.8572579192080618\n",
      "Curtose: 3.8609949041657154\n"
     ]
    }
   ],
   "source": [
    "tabela= pd.read_excel(\"base.xlsx\")\n",
    "\n",
    "assimetria= skew(tabela[\"Custo Combustível\"])\n",
    "curtose = kurtosis(tabela[\"Custo Combustível\"])\n",
    "print(\"Assimetria:\", assimetria)\n",
    "print(\"Curtose:\", curtose)"
   ]
  },
  {
   "cell_type": "code",
   "execution_count": 14,
   "id": "543e0f19-71ea-4fa0-b931-ca184adca0f6",
   "metadata": {},
   "outputs": [
    {
     "name": "stdout",
     "output_type": "stream",
     "text": [
      "Assimetria: 1.1091808375944685\n",
      "Curtose: 0.7875449097371923\n"
     ]
    }
   ],
   "source": [
    "tabela= pd.read_excel(\"base.xlsx\")\n",
    "\n",
    "assimetria= skew(tabela[\"Custos Fixos\"])\n",
    "curtose = kurtosis(tabela[\"Custos Fixos\"])\n",
    "print(\"Assimetria:\", assimetria)\n",
    "print(\"Curtose:\", curtose)"
   ]
  },
  {
   "cell_type": "code",
   "execution_count": 17,
   "id": "8ae5e27a-bc51-45f9-aad2-b66537fcfda2",
   "metadata": {},
   "outputs": [
    {
     "name": "stdout",
     "output_type": "stream",
     "text": [
      "Assimetria: 1.0757669412638369\n",
      "Curtose: 0.6531130905981071\n"
     ]
    }
   ],
   "source": [
    "tabela= pd.read_excel(\"base.xlsx\")\n",
    "\n",
    "assimetria= skew(tabela[\"Km\"])\n",
    "curtose = kurtosis(tabela[\"Km\"])\n",
    "print(\"Assimetria:\", assimetria)\n",
    "print(\"Curtose:\", curtose)"
   ]
  },
  {
   "cell_type": "code",
   "execution_count": 20,
   "id": "7c8463bc-780d-4fa6-ad67-521ff04cb049",
   "metadata": {},
   "outputs": [
    {
     "name": "stdout",
     "output_type": "stream",
     "text": [
      "Assimetria: 1.980786227636433\n",
      "Curtose: 5.42477312771546\n"
     ]
    }
   ],
   "source": [
    "tabela= pd.read_excel(\"base.xlsx\")\n",
    "\n",
    "assimetria= skew(tabela[\"Valor do Frete Líquido\"])\n",
    "curtose = kurtosis(tabela[\"Valor do Frete Líquido\"])\n",
    "print(\"Assimetria:\", assimetria)\n",
    "print(\"Curtose:\", curtose)"
   ]
  },
  {
   "cell_type": "code",
   "execution_count": 21,
   "id": "e51ca9c0-f246-4f93-b2fc-8b97277a3484",
   "metadata": {},
   "outputs": [
    {
     "name": "stdout",
     "output_type": "stream",
     "text": [
      "Assimetria: 0.9852535910762299\n",
      "Curtose: 0.43230105418347575\n"
     ]
    }
   ],
   "source": [
    "tabela= pd.read_excel(\"base.xlsx\")\n",
    "\n",
    "assimetria= skew(tabela[\"Custo Manutenção\"])\n",
    "curtose = kurtosis(tabela[\"Custo Manutenção\"])\n",
    "print(\"Assimetria:\", assimetria)\n",
    "print(\"Curtose:\", curtose)"
   ]
  },
  {
   "cell_type": "code",
   "execution_count": 28,
   "id": "bbe7a59f-2915-4036-9cf6-726446080ea8",
   "metadata": {},
   "outputs": [
    {
     "name": "stdout",
     "output_type": "stream",
     "text": [
      "Moda: 10\n"
     ]
    }
   ],
   "source": [
    "import statistics\n",
    "moda= statistics.mode(tabela[\"Prazo Entrega\"])\n",
    "print(f\"Moda: {moda}\")"
   ]
  },
  {
   "cell_type": "code",
   "execution_count": 29,
   "id": "78878361-3fa0-4ec6-b1d3-23f6cdfad76a",
   "metadata": {},
   "outputs": [
    {
     "name": "stdout",
     "output_type": "stream",
     "text": [
      "Moda: 50.4\n"
     ]
    }
   ],
   "source": [
    "\n",
    "moda= statistics.mode(tabela[\"Valor do Frete Líquido\"])\n",
    "print(f\"Moda: {moda}\")"
   ]
  },
  {
   "cell_type": "code",
   "execution_count": 30,
   "id": "1b3e5709-8019-4930-b325-31c55d392911",
   "metadata": {},
   "outputs": [
    {
     "name": "stdout",
     "output_type": "stream",
     "text": [
      "Moda: 2.06\n"
     ]
    }
   ],
   "source": [
    "\n",
    "moda= statistics.mode(tabela[\"Custo Manutenção\"])\n",
    "print(f\"Moda: {moda}\")"
   ]
  },
  {
   "cell_type": "code",
   "execution_count": 31,
   "id": "b84ce178-85d5-4751-be34-5798bf7e4986",
   "metadata": {},
   "outputs": [
    {
     "name": "stdout",
     "output_type": "stream",
     "text": [
      "Moda: 0.14\n"
     ]
    }
   ],
   "source": [
    "\n",
    "moda= statistics.mode(tabela[\"Custos Fixos\"])\n",
    "print(f\"Moda: {moda}\")"
   ]
  },
  {
   "cell_type": "code",
   "execution_count": null,
   "id": "c07ac9a4-1e8b-45ef-a093-e2c1f19e1e62",
   "metadata": {},
   "outputs": [],
   "source": []
  },
  {
   "cell_type": "code",
   "execution_count": null,
   "id": "7258d479-8be5-49e2-8f14-7d4b5eb69949",
   "metadata": {},
   "outputs": [],
   "source": []
  }
 ],
 "metadata": {
  "kernelspec": {
   "display_name": "Python 3 (ipykernel)",
   "language": "python",
   "name": "python3"
  },
  "language_info": {
   "codemirror_mode": {
    "name": "ipython",
    "version": 3
   },
   "file_extension": ".py",
   "mimetype": "text/x-python",
   "name": "python",
   "nbconvert_exporter": "python",
   "pygments_lexer": "ipython3",
   "version": "3.11.7"
  }
 },
 "nbformat": 4,
 "nbformat_minor": 5
}
